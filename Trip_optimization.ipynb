{
 "cells": [
  {
   "cell_type": "code",
   "execution_count": 192,
   "metadata": {},
   "outputs": [],
   "source": [
    "import networkx as nx\n",
    "import numpy as np\n",
    "import random\n",
    "import matplotlib.pyplot as plt\n",
    "from sklearn.cluster import KMeans\n",
    "import pandas as pd\n",
    "import seaborn as sns\n",
    "import neal\n",
    "import re"
   ]
  },
  {
   "cell_type": "code",
   "execution_count": 4,
   "metadata": {},
   "outputs": [],
   "source": [
    "def drawCommunities(G, partition, pos):\n",
    "    # G is graph in networkx form\n",
    "    # Partition is a dict containing info on clusters\n",
    "    # Pos is base on networkx spring layout (nx.spring_layout(G))\n",
    "\n",
    "    # For separating communities colors\n",
    "    dictList = defaultdict(list)\n",
    "    nodelist = []\n",
    "    for node, com in partition.items():\n",
    "        dictList[com].append(node)\n",
    "\n",
    "    # Get size of Communities\n",
    "    size = len(set(partition.values()))\n",
    "\n",
    "    # For loop to assign communities colors\n",
    "    for i in range(size):\n",
    "\n",
    "        amplifier = i % 3\n",
    "        multi = (i / 3) * 0.3\n",
    "\n",
    "        red = green = blue = 0\n",
    "\n",
    "        if amplifier == 0:\n",
    "            red = 0.1 + multi\n",
    "        elif amplifier == 1:\n",
    "            green = 0.1 + multi\n",
    "        else:\n",
    "            blue = 0.1 + multi\n",
    "        # Draw Nodes\n",
    "        nx.draw_networkx_nodes(G, pos,\n",
    "                               nodelist=dictList[i],\n",
    "                               node_color=[0.0 + red, 0.0 + \n",
    "                                           green, 0.0 + blue],\n",
    "                               node_size=500,\n",
    "                               alpha=0.8)\n",
    "\n",
    "    # Draw edges and final plot\n",
    "    plt.title(\"Random Graph\")\n",
    "    nx.draw_networkx_edges(G, pos, alpha=0.5)\n",
    "    nx.draw_networkx_labels(G, pos, font_size=16, font_color='w')"
   ]
  },
  {
   "cell_type": "code",
   "execution_count": 5,
   "metadata": {},
   "outputs": [],
   "source": [
    "path = 'C:/Users/Fai Huntrakool/Downloads/country.csv'"
   ]
  },
  {
   "cell_type": "code",
   "execution_count": 6,
   "metadata": {},
   "outputs": [],
   "source": [
    "df = pd.read_csv(path)"
   ]
  },
  {
   "cell_type": "code",
   "execution_count": 7,
   "metadata": {},
   "outputs": [],
   "source": [
    "n = 10\n",
    "cluster_size = 2"
   ]
  },
  {
   "cell_type": "code",
   "execution_count": 8,
   "metadata": {},
   "outputs": [],
   "source": [
    "us = df[(df['Country']=='us') & (df['Region']=='CA')].sample(frac=1).reset_index(drop=True)[:n]\n",
    "us['Adj_Long'] = (us['Longitude']-us['Longitude'].mean())*10\n",
    "us['Adj_Lat'] = (us['Latitude']-us['Latitude'].mean())*10"
   ]
  },
  {
   "cell_type": "code",
   "execution_count": 9,
   "metadata": {},
   "outputs": [
    {
     "data": {
      "text/html": [
       "<div>\n",
       "<style scoped>\n",
       "    .dataframe tbody tr th:only-of-type {\n",
       "        vertical-align: middle;\n",
       "    }\n",
       "\n",
       "    .dataframe tbody tr th {\n",
       "        vertical-align: top;\n",
       "    }\n",
       "\n",
       "    .dataframe thead th {\n",
       "        text-align: right;\n",
       "    }\n",
       "</style>\n",
       "<table border=\"1\" class=\"dataframe\">\n",
       "  <thead>\n",
       "    <tr style=\"text-align: right;\">\n",
       "      <th></th>\n",
       "      <th>Country</th>\n",
       "      <th>City</th>\n",
       "      <th>AccentCity</th>\n",
       "      <th>Region</th>\n",
       "      <th>Population</th>\n",
       "      <th>Latitude</th>\n",
       "      <th>Longitude</th>\n",
       "      <th>Adj_Long</th>\n",
       "      <th>Adj_Lat</th>\n",
       "    </tr>\n",
       "  </thead>\n",
       "  <tbody>\n",
       "    <tr>\n",
       "      <th>0</th>\n",
       "      <td>us</td>\n",
       "      <td>blue lake junction</td>\n",
       "      <td>Blue Lake Junction</td>\n",
       "      <td>CA</td>\n",
       "      <td>NaN</td>\n",
       "      <td>38.258611</td>\n",
       "      <td>-120.330556</td>\n",
       "      <td>-4.155000</td>\n",
       "      <td>16.448611</td>\n",
       "    </tr>\n",
       "    <tr>\n",
       "      <th>1</th>\n",
       "      <td>us</td>\n",
       "      <td>canyon country</td>\n",
       "      <td>Canyon Country</td>\n",
       "      <td>CA</td>\n",
       "      <td>NaN</td>\n",
       "      <td>34.423333</td>\n",
       "      <td>-118.471111</td>\n",
       "      <td>14.439445</td>\n",
       "      <td>-21.904167</td>\n",
       "    </tr>\n",
       "    <tr>\n",
       "      <th>2</th>\n",
       "      <td>us</td>\n",
       "      <td>annette</td>\n",
       "      <td>Annette</td>\n",
       "      <td>CA</td>\n",
       "      <td>NaN</td>\n",
       "      <td>35.650833</td>\n",
       "      <td>-120.178056</td>\n",
       "      <td>-2.630000</td>\n",
       "      <td>-9.629167</td>\n",
       "    </tr>\n",
       "    <tr>\n",
       "      <th>3</th>\n",
       "      <td>us</td>\n",
       "      <td>panorama city</td>\n",
       "      <td>Panorama City</td>\n",
       "      <td>CA</td>\n",
       "      <td>NaN</td>\n",
       "      <td>34.224722</td>\n",
       "      <td>-118.448889</td>\n",
       "      <td>14.661667</td>\n",
       "      <td>-23.890278</td>\n",
       "    </tr>\n",
       "    <tr>\n",
       "      <th>4</th>\n",
       "      <td>us</td>\n",
       "      <td>thunderbird ranches</td>\n",
       "      <td>Thunderbird Ranches</td>\n",
       "      <td>CA</td>\n",
       "      <td>NaN</td>\n",
       "      <td>34.522778</td>\n",
       "      <td>-117.119722</td>\n",
       "      <td>27.953334</td>\n",
       "      <td>-20.909722</td>\n",
       "    </tr>\n",
       "    <tr>\n",
       "      <th>5</th>\n",
       "      <td>us</td>\n",
       "      <td>gualala</td>\n",
       "      <td>Gualala</td>\n",
       "      <td>CA</td>\n",
       "      <td>NaN</td>\n",
       "      <td>38.765833</td>\n",
       "      <td>-123.526944</td>\n",
       "      <td>-36.118888</td>\n",
       "      <td>21.520833</td>\n",
       "    </tr>\n",
       "    <tr>\n",
       "      <th>6</th>\n",
       "      <td>us</td>\n",
       "      <td>dozier</td>\n",
       "      <td>Dozier</td>\n",
       "      <td>CA</td>\n",
       "      <td>NaN</td>\n",
       "      <td>38.285556</td>\n",
       "      <td>-121.815556</td>\n",
       "      <td>-19.005000</td>\n",
       "      <td>16.718056</td>\n",
       "    </tr>\n",
       "    <tr>\n",
       "      <th>7</th>\n",
       "      <td>us</td>\n",
       "      <td>mile high</td>\n",
       "      <td>Mile High</td>\n",
       "      <td>CA</td>\n",
       "      <td>NaN</td>\n",
       "      <td>34.412778</td>\n",
       "      <td>-117.773056</td>\n",
       "      <td>21.420000</td>\n",
       "      <td>-22.009722</td>\n",
       "    </tr>\n",
       "    <tr>\n",
       "      <th>8</th>\n",
       "      <td>us</td>\n",
       "      <td>cougar</td>\n",
       "      <td>Cougar</td>\n",
       "      <td>CA</td>\n",
       "      <td>NaN</td>\n",
       "      <td>41.583333</td>\n",
       "      <td>-122.184167</td>\n",
       "      <td>-22.691111</td>\n",
       "      <td>49.695833</td>\n",
       "    </tr>\n",
       "    <tr>\n",
       "      <th>9</th>\n",
       "      <td>us</td>\n",
       "      <td>quail</td>\n",
       "      <td>Quail</td>\n",
       "      <td>CA</td>\n",
       "      <td>NaN</td>\n",
       "      <td>36.009722</td>\n",
       "      <td>-119.302500</td>\n",
       "      <td>6.125556</td>\n",
       "      <td>-6.040278</td>\n",
       "    </tr>\n",
       "  </tbody>\n",
       "</table>\n",
       "</div>"
      ],
      "text/plain": [
       "  Country                 City           AccentCity Region  Population  \\\n",
       "0      us   blue lake junction   Blue Lake Junction     CA         NaN   \n",
       "1      us       canyon country       Canyon Country     CA         NaN   \n",
       "2      us              annette              Annette     CA         NaN   \n",
       "3      us        panorama city        Panorama City     CA         NaN   \n",
       "4      us  thunderbird ranches  Thunderbird Ranches     CA         NaN   \n",
       "5      us              gualala              Gualala     CA         NaN   \n",
       "6      us               dozier               Dozier     CA         NaN   \n",
       "7      us            mile high            Mile High     CA         NaN   \n",
       "8      us               cougar               Cougar     CA         NaN   \n",
       "9      us                quail                Quail     CA         NaN   \n",
       "\n",
       "    Latitude   Longitude   Adj_Long    Adj_Lat  \n",
       "0  38.258611 -120.330556  -4.155000  16.448611  \n",
       "1  34.423333 -118.471111  14.439445 -21.904167  \n",
       "2  35.650833 -120.178056  -2.630000  -9.629167  \n",
       "3  34.224722 -118.448889  14.661667 -23.890278  \n",
       "4  34.522778 -117.119722  27.953334 -20.909722  \n",
       "5  38.765833 -123.526944 -36.118888  21.520833  \n",
       "6  38.285556 -121.815556 -19.005000  16.718056  \n",
       "7  34.412778 -117.773056  21.420000 -22.009722  \n",
       "8  41.583333 -122.184167 -22.691111  49.695833  \n",
       "9  36.009722 -119.302500   6.125556  -6.040278  "
      ]
     },
     "execution_count": 9,
     "metadata": {},
     "output_type": "execute_result"
    }
   ],
   "source": [
    "us"
   ]
  },
  {
   "cell_type": "code",
   "execution_count": 10,
   "metadata": {},
   "outputs": [],
   "source": [
    "df1 = us.loc[:,['Adj_Long','Adj_Lat']]"
   ]
  },
  {
   "cell_type": "code",
   "execution_count": 11,
   "metadata": {},
   "outputs": [
    {
     "data": {
      "image/png": "[encoded data removed]",
      "text/plain": [
       "<Figure size 432x288 with 1 Axes>"
      ]
     },
     "metadata": {},
     "output_type": "display_data"
    }
   ],
   "source": [
    "fig, ax = plt.subplots()\n",
    "ax.scatter(x=\"Adj_Lat\", y=\"Adj_Long\", data=df1, s=400)\n",
    "for line in range(0,df1.shape[0]):\n",
    "     ax.annotate(line, (df1['Adj_Lat'][line]-1, df1['Adj_Long'][line]-1))\n",
    "    "
   ]
  },
  {
   "cell_type": "code",
   "execution_count": 12,
   "metadata": {},
   "outputs": [],
   "source": [
    "def dist(x1,y1,x2,y2):\n",
    "    return np.round(np.sqrt((x1-x2)**2+(y1-y2)**2))"
   ]
  },
  {
   "cell_type": "code",
   "execution_count": 13,
   "metadata": {},
   "outputs": [
    {
     "data": {
      "text/plain": [
       "KMeans(algorithm='auto', copy_x=True, init='k-means++', max_iter=300,\n",
       "    n_clusters=2, n_init=200, n_jobs=1, precompute_distances='auto',\n",
       "    random_state=None, tol=0.0001, verbose=0)"
      ]
     },
     "execution_count": 13,
     "metadata": {},
     "output_type": "execute_result"
    }
   ],
   "source": [
    "kmeans = KMeans(n_clusters=cluster_size, n_init=200)\n",
    "kmeans.fit(df1)"
   ]
  },
  {
   "cell_type": "code",
   "execution_count": 14,
   "metadata": {},
   "outputs": [],
   "source": [
    "labels = kmeans.predict(df1)"
   ]
  },
  {
   "cell_type": "code",
   "execution_count": 15,
   "metadata": {},
   "outputs": [],
   "source": [
    "df1['cluster'] = labels"
   ]
  },
  {
   "cell_type": "code",
   "execution_count": 16,
   "metadata": {},
   "outputs": [
    {
     "data": {
      "image/png": "[encoded data removed]",
      "text/plain": [
       "<Figure size 432x288 with 1 Axes>"
      ]
     },
     "metadata": {},
     "output_type": "display_data"
    }
   ],
   "source": [
    "colmap = {0: 'r', 1: 'g', 2: 'b'}\n",
    "\n",
    "fig, ax = plt.subplots()\n",
    "for i in list(range(0,cluster_size)):\n",
    "    ax.scatter(x=\"Adj_Lat\", y=\"Adj_Long\", data=df1[df1[\"cluster\"]==i], s=400, color = colmap[i])\n",
    "for line in range(0,df1.shape[0]):\n",
    "     ax.annotate(line, (df1['Adj_Lat'][line]-1, df1['Adj_Long'][line]-1), color = \"w\")"
   ]
  },
  {
   "cell_type": "code",
   "execution_count": 17,
   "metadata": {},
   "outputs": [
    {
     "data": {
      "text/plain": [
       "[0, 1]"
      ]
     },
     "execution_count": 17,
     "metadata": {},
     "output_type": "execute_result"
    }
   ],
   "source": [
    "cl = list(range(0,cluster_size))\n",
    "cl "
   ]
  },
  {
   "cell_type": "markdown",
   "metadata": {},
   "source": [
    "### Shortest Path"
   ]
  },
  {
   "cell_type": "code",
   "execution_count": 377,
   "metadata": {},
   "outputs": [],
   "source": [
    "c = 1\n",
    "use = df1[df1['cluster'] == c]"
   ]
  },
  {
   "cell_type": "code",
   "execution_count": 378,
   "metadata": {},
   "outputs": [],
   "source": [
    "from collections import defaultdict\n",
    "modify_node = defaultdict(int)\n",
    "for index,u in zip(range(len(use)) ,use.index):\n",
    "    modify_node[index] = u"
   ]
  },
  {
   "cell_type": "code",
   "execution_count": 379,
   "metadata": {},
   "outputs": [
    {
     "data": {
      "text/plain": [
       "defaultdict(int, {0: 1, 1: 2, 2: 3, 3: 4, 4: 7, 5: 9})"
      ]
     },
     "execution_count": 379,
     "metadata": {},
     "output_type": "execute_result"
    }
   ],
   "source": [
    "modify_node"
   ]
  },
  {
   "cell_type": "code",
   "execution_count": 380,
   "metadata": {},
   "outputs": [],
   "source": [
    "G = nx.complete_graph(len(use))"
   ]
  },
  {
   "cell_type": "code",
   "execution_count": 381,
   "metadata": {},
   "outputs": [],
   "source": [
    "for (u, v) in G.edges():\n",
    "    x1,y1 = use.loc[modify_node[u],[\"Adj_Lat\",\"Adj_Long\"]]\n",
    "    x2,y2 = use.loc[modify_node[v],[\"Adj_Lat\",\"Adj_Long\"]]\n",
    "    G.edges[u,v]['weight'] = dist(x1,y1,x2,y2)"
   ]
  },
  {
   "cell_type": "code",
   "execution_count": 382,
   "metadata": {},
   "outputs": [
    {
     "data": {
      "image/png": "[encoded data removed]",
      "text/plain": [
       "<Figure size 432x288 with 1 Axes>"
      ]
     },
     "metadata": {},
     "output_type": "display_data"
    }
   ],
   "source": [
    "nx.draw(G, node_size=400, node_color='red', with_labels=True, font_weight='bold')\n",
    "plt.show()"
   ]
  },
  {
   "cell_type": "code",
   "execution_count": 383,
   "metadata": {},
   "outputs": [
    {
     "data": {
      "text/plain": [
       "matrix([[ 0., 21.,  2., 14.,  7., 18.],\n",
       "        [21.,  0., 22., 33., 27.,  9.],\n",
       "        [ 2., 22.,  0., 14.,  7., 20.],\n",
       "        [14., 33., 14.,  0.,  7., 26.],\n",
       "        [ 7., 27.,  7.,  7.,  0., 22.],\n",
       "        [18.,  9., 20., 26., 22.,  0.]])"
      ]
     },
     "execution_count": 383,
     "metadata": {},
     "output_type": "execute_result"
    }
   ],
   "source": [
    "DistMat = nx.adjacency_matrix(G).todense()\n",
    "DistMat"
   ]
  },
  {
   "cell_type": "markdown",
   "metadata": {},
   "source": [
    "### Travel Salemans Problem"
   ]
  },
  {
   "cell_type": "code",
   "execution_count": 384,
   "metadata": {},
   "outputs": [],
   "source": [
    "from pyqubo import Array"
   ]
  },
  {
   "cell_type": "code",
   "execution_count": 437,
   "metadata": {},
   "outputs": [],
   "source": [
    "size = (len(DistMat),len(DistMat))\n",
    "x = Array.create('x', size, \"BINARY\")"
   ]
  },
  {
   "cell_type": "markdown",
   "metadata": {},
   "source": [
    "### Objective Function \n",
    "$H_A=A\\sum_{i=1}^n(1-\\sum_{j=1}^nx_{i,j})^2+A\\sum_{j=1}^n(1-\\sum_{i=1}^nx_{i,j})^2$ <br>\n",
    "$H_B=B\\sum_{ui\\in E}^nD_{ui}(\\sum_{j=1}x_{u,j}x_{i,j+1})$ <br>\n",
    "<br>\n",
    "min $H = H_A+H_B$\n",
    "\n",
    "\n"
   ]
  },
  {
   "cell_type": "code",
   "execution_count": 386,
   "metadata": {},
   "outputs": [],
   "source": [
    "HA_1 = 0\n",
    "HA_2 = 0\n",
    "for i in range(len(DistMat)):\n",
    "    temp_1 = 1\n",
    "    temp_2 = 1\n",
    "    for j in range(len(DistMat)):\n",
    "        if i!=j:\n",
    "            temp_1 -= x[i][j]\n",
    "            temp_2 -= x[j][i]\n",
    "    HA_1 += temp_1**2\n",
    "    HA_2 += temp_2**2"
   ]
  },
  {
   "cell_type": "code",
   "execution_count": 387,
   "metadata": {},
   "outputs": [],
   "source": [
    "HB = 0\n",
    "for u,i in list(G.edges):\n",
    "    temp = 0\n",
    "    for j in range(0,len(DistMat)-1):\n",
    "        temp += x[u][j]*x[i][j+1] + x[i][j]*x[u][j+1] \n",
    "    HB += DistMat.item((u, i))*temp"
   ]
  },
  {
   "cell_type": "code",
   "execution_count": 412,
   "metadata": {},
   "outputs": [],
   "source": [
    "max_distance = DistMat.max()\n",
    "B = 1\n",
    "A = max_distance*10"
   ]
  },
  {
   "cell_type": "code",
   "execution_count": 413,
   "metadata": {},
   "outputs": [],
   "source": [
    "H = A*(HA_1 + HA_2) + B*HB"
   ]
  },
  {
   "cell_type": "code",
   "execution_count": 414,
   "metadata": {},
   "outputs": [],
   "source": [
    "model = H.compile()\n",
    "bqm = model.to_dimod_bqm()"
   ]
  },
  {
   "cell_type": "code",
   "execution_count": 415,
   "metadata": {},
   "outputs": [],
   "source": [
    "def sa_solver(bqm):\n",
    "    sampler = neal.SimulatedAnnealingSampler()\n",
    "    response = sampler.sample(bqm, num_reads=100)\n",
    "    min_energy = float(\"inf\")\n",
    "    current_solution = []\n",
    "    for sample, energy in response.data(['sample', 'energy']):\n",
    "        if energy < min_energy:\n",
    "            current_solution = sample\n",
    "    return current_solution"
   ]
  },
  {
   "cell_type": "code",
   "execution_count": 438,
   "metadata": {},
   "outputs": [],
   "source": [
    "def display_mat(current_solution, DistMat, modify_node):\n",
    "    ans_mat = np.zeros((len(DistMat),len(DistMat)))\n",
    "    for key,val in current_solution.items():\n",
    "        temp = re.findall(r'\\d+', key) \n",
    "        x,y = list(map(int, temp))\n",
    "        ans_mat[x,y] = val\n",
    "        ans_mat[y,x] = val\n",
    "    print(ans_mat)\n",
    "    route = list(np.argmax(ans_mat, axis=0))\n",
    "    route.append(route[0])\n",
    "    route = [modify_node[i] for i in route]\n",
    "    edges = []\n",
    "    for x in range(len(route)-1):\n",
    "        edges.append((route[x],route[x+1]))\n",
    "    G = nx.Graph()\n",
    "    G.add_edges_from(edges)\n",
    "    nx.draw_circular(G, node_size=400, node_color='red', with_labels=True, font_weight='bold')\n",
    "    plt.show()\n",
    "    return route"
   ]
  },
  {
   "cell_type": "code",
   "execution_count": 443,
   "metadata": {},
   "outputs": [
    {
     "name": "stdout",
     "output_type": "stream",
     "text": [
      "[[0. 0. 1. 0. 0. 0.]\n",
      " [0. 0. 0. 1. 0. 0.]\n",
      " [1. 0. 0. 0. 0. 0.]\n",
      " [0. 1. 0. 0. 0. 0.]\n",
      " [0. 0. 0. 0. 0. 1.]\n",
      " [0. 0. 0. 0. 1. 0.]]\n"
     ]
    },
    {
     "data": {
      "image/png": "[encoded data removed]",
      "text/plain": [
       "<Figure size 432x288 with 1 Axes>"
      ]
     },
     "metadata": {},
     "output_type": "display_data"
    },
    {
     "data": {
      "text/plain": [
       "[3, 4, 1, 2, 9, 7, 3]"
      ]
     },
     "execution_count": 443,
     "metadata": {},
     "output_type": "execute_result"
    }
   ],
   "source": [
    "current_solution = sa_solver(bqm)\n",
    "display_mat(current_solution, DistMat, modify_node)"
   ]
  },
  {
   "cell_type": "code",
   "execution_count": 431,
   "metadata": {},
   "outputs": [],
   "source": [
    "def shortest_path(df1, c):\n",
    "    use = df1[df1['cluster'] == c]\n",
    "    from collections import defaultdict\n",
    "    modify_node = defaultdict(int)\n",
    "    for index,u in zip(range(len(use)) ,use.index):\n",
    "        modify_node[index] = u\n",
    "    G = nx.complete_graph(len(use))\n",
    "    for (u, v) in G.edges():\n",
    "        x1,y1 = use.loc[modify_node[u],[\"Adj_Lat\",\"Adj_Long\"]]\n",
    "        x2,y2 = use.loc[modify_node[v],[\"Adj_Lat\",\"Adj_Long\"]]\n",
    "        G.edges[u,v]['weight'] = dist(x1,y1,x2,y2)\n",
    "   # nx.draw(G, node_size=400, node_color='red', with_labels=True, font_weight='bold')\n",
    "    #plt.show()\n",
    "    DistMat = nx.adjacency_matrix(G).todense()\n",
    "    size = (len(DistMat),len(DistMat))\n",
    "    x = Array.create('x', size, \"BINARY\")\n",
    "    HA_1 = 0\n",
    "    HA_2 = 0\n",
    "    for i in range(len(DistMat)):\n",
    "        temp_1 = 1\n",
    "        temp_2 = 1\n",
    "        for j in range(len(DistMat)):\n",
    "            if i!=j:\n",
    "                temp_1 -= x[i][j]\n",
    "                temp_2 -= x[j][i]\n",
    "        HA_1 += temp_1**2\n",
    "        HA_2 += temp_2**2\n",
    "    HB = 0\n",
    "    for u,i in list(G.edges):\n",
    "        temp = 0\n",
    "        for j in range(0,len(DistMat)-1):\n",
    "            temp += x[u][j]*x[i][j+1] + x[i][j]*x[u][j+1] \n",
    "        HB += DistMat.item((u, i))*temp\n",
    "    max_distance = DistMat.max()\n",
    "    B = 1\n",
    "    A = max_distance*(len(DistMat))\n",
    "    H = A*(HA_1 + HA_2) + B*HB\n",
    "    model = H.compile()\n",
    "    bqm = model.to_dimod_bqm()\n",
    "    current_solution = sa_solver(bqm)\n",
    "    route = display_mat(current_solution, DistMat, modify_node)\n",
    "    print(route)"
   ]
  },
  {
   "cell_type": "code",
   "execution_count": 436,
   "metadata": {},
   "outputs": [
    {
     "name": "stdout",
     "output_type": "stream",
     "text": [
      "0\n"
     ]
    },
    {
     "data": {
      "image/png": "[encoded data removed]",
      "text/plain": [
       "<Figure size 432x288 with 1 Axes>"
      ]
     },
     "metadata": {},
     "output_type": "display_data"
    },
    {
     "name": "stdout",
     "output_type": "stream",
     "text": [
      "[6, 8, 0, 5, 6]\n",
      "1\n"
     ]
    },
    {
     "data": {
      "image/png": "[encoded data removed]",
      "text/plain": [
       "<Figure size 432x288 with 1 Axes>"
      ]
     },
     "metadata": {},
     "output_type": "display_data"
    },
    {
     "name": "stdout",
     "output_type": "stream",
     "text": [
      "[7, 9, 4, 3, 1, 2, 7]\n"
     ]
    }
   ],
   "source": [
    "for c in cl:\n",
    "    print(c)\n",
    "    shortest_path(df1, c)"
   ]
  },
  {
   "cell_type": "code",
   "execution_count": null,
   "metadata": {},
   "outputs": [],
   "source": []
  }
 ],
 "metadata": {
  "kernelspec": {
   "display_name": "Python 3",
   "language": "python",
   "name": "python3"
  },
  "language_info": {
   "codemirror_mode": {
    "name": "ipython",
    "version": 3
   },
   "file_extension": ".py",
   "mimetype": "text/x-python",
   "name": "python",
   "nbconvert_exporter": "python",
   "pygments_lexer": "ipython3",
   "version": "3.6.5"
  }
 },
 "nbformat": 4,
 "nbformat_minor": 2
}
