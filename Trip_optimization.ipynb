{
 "cells": [
  {
   "cell_type": "code",
   "execution_count": 360,
   "metadata": {},
   "outputs": [],
   "source": [
    "import networkx as nx\n",
    "import numpy as np\n",
    "import random\n",
    "import matplotlib.pyplot as plt\n",
    "from sklearn.cluster import KMeans\n",
    "import pandas as pd\n",
    "import seaborn as sns\n",
    "import neal\n",
    "import re"
   ]
  },
  {
   "cell_type": "code",
   "execution_count": 361,
   "metadata": {},
   "outputs": [],
   "source": [
    "import warnings\n",
    "warnings.filterwarnings(\"ignore\")"
   ]
  },
  {
   "cell_type": "code",
   "execution_count": 362,
   "metadata": {},
   "outputs": [],
   "source": [
    "path = '/Users/phuntrakaool/Downloads/world-cities-database/country.csv'"
   ]
  },
  {
   "cell_type": "code",
   "execution_count": 363,
   "metadata": {},
   "outputs": [],
   "source": [
    "df = pd.read_csv(path)"
   ]
  },
  {
   "cell_type": "code",
   "execution_count": 525,
   "metadata": {},
   "outputs": [],
   "source": [
    "n = 15\n",
    "cluster_size = 2"
   ]
  },
  {
   "cell_type": "code",
   "execution_count": 526,
   "metadata": {},
   "outputs": [],
   "source": [
    "us = df[(df['Country']=='us') & (df['Region']=='CA')].sample(frac=1).reset_index(drop=True)[:n]\n",
    "us['Adj_Long'] = (us['Longitude']-us['Longitude'].mean())*10\n",
    "us['Adj_Lat'] = (us['Latitude']-us['Latitude'].mean())*10"
   ]
  },
  {
   "cell_type": "code",
   "execution_count": 527,
   "metadata": {},
   "outputs": [
    {
     "data": {
      "text/html": [
       "<div>\n",
       "<style scoped>\n",
       "    .dataframe tbody tr th:only-of-type {\n",
       "        vertical-align: middle;\n",
       "    }\n",
       "\n",
       "    .dataframe tbody tr th {\n",
       "        vertical-align: top;\n",
       "    }\n",
       "\n",
       "    .dataframe thead th {\n",
       "        text-align: right;\n",
       "    }\n",
       "</style>\n",
       "<table border=\"1\" class=\"dataframe\">\n",
       "  <thead>\n",
       "    <tr style=\"text-align: right;\">\n",
       "      <th></th>\n",
       "      <th>Unnamed: 0</th>\n",
       "      <th>Country</th>\n",
       "      <th>City</th>\n",
       "      <th>AccentCity</th>\n",
       "      <th>Region</th>\n",
       "      <th>Population</th>\n",
       "      <th>Latitude</th>\n",
       "      <th>Longitude</th>\n",
       "      <th>Adj_Long</th>\n",
       "      <th>Adj_Lat</th>\n",
       "    </tr>\n",
       "  </thead>\n",
       "  <tbody>\n",
       "    <tr>\n",
       "      <th>0</th>\n",
       "      <td>2920731</td>\n",
       "      <td>us</td>\n",
       "      <td>malibu hills</td>\n",
       "      <td>Malibu Hills</td>\n",
       "      <td>CA</td>\n",
       "      <td>NaN</td>\n",
       "      <td>34.047500</td>\n",
       "      <td>-118.743333</td>\n",
       "      <td>20.146482</td>\n",
       "      <td>-38.539445</td>\n",
       "    </tr>\n",
       "    <tr>\n",
       "      <th>1</th>\n",
       "      <td>2922701</td>\n",
       "      <td>us</td>\n",
       "      <td>taylorsville</td>\n",
       "      <td>Taylorsville</td>\n",
       "      <td>CA</td>\n",
       "      <td>NaN</td>\n",
       "      <td>40.075556</td>\n",
       "      <td>-120.838611</td>\n",
       "      <td>-0.806296</td>\n",
       "      <td>21.741111</td>\n",
       "    </tr>\n",
       "    <tr>\n",
       "      <th>2</th>\n",
       "      <td>2918633</td>\n",
       "      <td>us</td>\n",
       "      <td>card place</td>\n",
       "      <td>Card Place</td>\n",
       "      <td>CA</td>\n",
       "      <td>NaN</td>\n",
       "      <td>39.808056</td>\n",
       "      <td>-123.403611</td>\n",
       "      <td>-26.456296</td>\n",
       "      <td>19.066111</td>\n",
       "    </tr>\n",
       "    <tr>\n",
       "      <th>3</th>\n",
       "      <td>2918574</td>\n",
       "      <td>us</td>\n",
       "      <td>cameron creek colony</td>\n",
       "      <td>Cameron Creek Colony</td>\n",
       "      <td>CA</td>\n",
       "      <td>NaN</td>\n",
       "      <td>36.317222</td>\n",
       "      <td>-119.203889</td>\n",
       "      <td>15.540926</td>\n",
       "      <td>-15.842223</td>\n",
       "    </tr>\n",
       "    <tr>\n",
       "      <th>4</th>\n",
       "      <td>2920057</td>\n",
       "      <td>us</td>\n",
       "      <td>homestead</td>\n",
       "      <td>Homestead</td>\n",
       "      <td>CA</td>\n",
       "      <td>NaN</td>\n",
       "      <td>41.913611</td>\n",
       "      <td>-121.421944</td>\n",
       "      <td>-6.639629</td>\n",
       "      <td>40.121666</td>\n",
       "    </tr>\n",
       "    <tr>\n",
       "      <th>5</th>\n",
       "      <td>2919098</td>\n",
       "      <td>us</td>\n",
       "      <td>deetz</td>\n",
       "      <td>Deetz</td>\n",
       "      <td>CA</td>\n",
       "      <td>NaN</td>\n",
       "      <td>41.358056</td>\n",
       "      <td>-122.382222</td>\n",
       "      <td>-16.242407</td>\n",
       "      <td>34.566111</td>\n",
       "    </tr>\n",
       "    <tr>\n",
       "      <th>6</th>\n",
       "      <td>2919131</td>\n",
       "      <td>us</td>\n",
       "      <td>denair</td>\n",
       "      <td>Denair</td>\n",
       "      <td>CA</td>\n",
       "      <td>NaN</td>\n",
       "      <td>37.526389</td>\n",
       "      <td>-120.795833</td>\n",
       "      <td>-0.378518</td>\n",
       "      <td>-3.750556</td>\n",
       "    </tr>\n",
       "    <tr>\n",
       "      <th>7</th>\n",
       "      <td>2921339</td>\n",
       "      <td>us</td>\n",
       "      <td>oceanview</td>\n",
       "      <td>Oceanview</td>\n",
       "      <td>CA</td>\n",
       "      <td>NaN</td>\n",
       "      <td>37.709444</td>\n",
       "      <td>-122.437500</td>\n",
       "      <td>-16.795185</td>\n",
       "      <td>-1.920001</td>\n",
       "    </tr>\n",
       "    <tr>\n",
       "      <th>8</th>\n",
       "      <td>2919281</td>\n",
       "      <td>us</td>\n",
       "      <td>east oakdale</td>\n",
       "      <td>East Oakdale</td>\n",
       "      <td>CA</td>\n",
       "      <td>NaN</td>\n",
       "      <td>37.788056</td>\n",
       "      <td>-120.802778</td>\n",
       "      <td>-0.447963</td>\n",
       "      <td>-1.133889</td>\n",
       "    </tr>\n",
       "    <tr>\n",
       "      <th>9</th>\n",
       "      <td>2919977</td>\n",
       "      <td>us</td>\n",
       "      <td>hessel</td>\n",
       "      <td>Hessel</td>\n",
       "      <td>CA</td>\n",
       "      <td>NaN</td>\n",
       "      <td>38.348333</td>\n",
       "      <td>-122.776111</td>\n",
       "      <td>-20.181296</td>\n",
       "      <td>4.468888</td>\n",
       "    </tr>\n",
       "    <tr>\n",
       "      <th>10</th>\n",
       "      <td>2920100</td>\n",
       "      <td>us</td>\n",
       "      <td>hulburd grove</td>\n",
       "      <td>Hulburd Grove</td>\n",
       "      <td>CA</td>\n",
       "      <td>NaN</td>\n",
       "      <td>32.861944</td>\n",
       "      <td>-116.622222</td>\n",
       "      <td>41.357593</td>\n",
       "      <td>-50.395001</td>\n",
       "    </tr>\n",
       "    <tr>\n",
       "      <th>11</th>\n",
       "      <td>2920460</td>\n",
       "      <td>us</td>\n",
       "      <td>lakeshore</td>\n",
       "      <td>Lakeshore</td>\n",
       "      <td>CA</td>\n",
       "      <td>NaN</td>\n",
       "      <td>37.253056</td>\n",
       "      <td>-119.173889</td>\n",
       "      <td>15.840926</td>\n",
       "      <td>-6.483889</td>\n",
       "    </tr>\n",
       "    <tr>\n",
       "      <th>12</th>\n",
       "      <td>2918160</td>\n",
       "      <td>us</td>\n",
       "      <td>bartlett springs</td>\n",
       "      <td>Bartlett Springs</td>\n",
       "      <td>CA</td>\n",
       "      <td>NaN</td>\n",
       "      <td>39.183889</td>\n",
       "      <td>-122.703333</td>\n",
       "      <td>-19.453518</td>\n",
       "      <td>12.824444</td>\n",
       "    </tr>\n",
       "    <tr>\n",
       "      <th>13</th>\n",
       "      <td>2919103</td>\n",
       "      <td>us</td>\n",
       "      <td>del francia mobile estates</td>\n",
       "      <td>Del Francia Mobile Estates</td>\n",
       "      <td>CA</td>\n",
       "      <td>NaN</td>\n",
       "      <td>34.435556</td>\n",
       "      <td>-119.279444</td>\n",
       "      <td>14.785371</td>\n",
       "      <td>-34.658889</td>\n",
       "    </tr>\n",
       "    <tr>\n",
       "      <th>14</th>\n",
       "      <td>2922493</td>\n",
       "      <td>us</td>\n",
       "      <td>spring garden</td>\n",
       "      <td>Spring Garden</td>\n",
       "      <td>CA</td>\n",
       "      <td>NaN</td>\n",
       "      <td>39.895000</td>\n",
       "      <td>-120.785000</td>\n",
       "      <td>-0.270185</td>\n",
       "      <td>19.935555</td>\n",
       "    </tr>\n",
       "  </tbody>\n",
       "</table>\n",
       "</div>"
      ],
      "text/plain": [
       "    Unnamed: 0 Country                        City  \\\n",
       "0      2920731      us                malibu hills   \n",
       "1      2922701      us                taylorsville   \n",
       "2      2918633      us                  card place   \n",
       "3      2918574      us        cameron creek colony   \n",
       "4      2920057      us                   homestead   \n",
       "5      2919098      us                       deetz   \n",
       "6      2919131      us                      denair   \n",
       "7      2921339      us                   oceanview   \n",
       "8      2919281      us                east oakdale   \n",
       "9      2919977      us                      hessel   \n",
       "10     2920100      us               hulburd grove   \n",
       "11     2920460      us                   lakeshore   \n",
       "12     2918160      us            bartlett springs   \n",
       "13     2919103      us  del francia mobile estates   \n",
       "14     2922493      us               spring garden   \n",
       "\n",
       "                    AccentCity Region  Population   Latitude   Longitude  \\\n",
       "0                 Malibu Hills     CA         NaN  34.047500 -118.743333   \n",
       "1                 Taylorsville     CA         NaN  40.075556 -120.838611   \n",
       "2                   Card Place     CA         NaN  39.808056 -123.403611   \n",
       "3         Cameron Creek Colony     CA         NaN  36.317222 -119.203889   \n",
       "4                    Homestead     CA         NaN  41.913611 -121.421944   \n",
       "5                        Deetz     CA         NaN  41.358056 -122.382222   \n",
       "6                       Denair     CA         NaN  37.526389 -120.795833   \n",
       "7                    Oceanview     CA         NaN  37.709444 -122.437500   \n",
       "8                 East Oakdale     CA         NaN  37.788056 -120.802778   \n",
       "9                       Hessel     CA         NaN  38.348333 -122.776111   \n",
       "10               Hulburd Grove     CA         NaN  32.861944 -116.622222   \n",
       "11                   Lakeshore     CA         NaN  37.253056 -119.173889   \n",
       "12            Bartlett Springs     CA         NaN  39.183889 -122.703333   \n",
       "13  Del Francia Mobile Estates     CA         NaN  34.435556 -119.279444   \n",
       "14               Spring Garden     CA         NaN  39.895000 -120.785000   \n",
       "\n",
       "     Adj_Long    Adj_Lat  \n",
       "0   20.146482 -38.539445  \n",
       "1   -0.806296  21.741111  \n",
       "2  -26.456296  19.066111  \n",
       "3   15.540926 -15.842223  \n",
       "4   -6.639629  40.121666  \n",
       "5  -16.242407  34.566111  \n",
       "6   -0.378518  -3.750556  \n",
       "7  -16.795185  -1.920001  \n",
       "8   -0.447963  -1.133889  \n",
       "9  -20.181296   4.468888  \n",
       "10  41.357593 -50.395001  \n",
       "11  15.840926  -6.483889  \n",
       "12 -19.453518  12.824444  \n",
       "13  14.785371 -34.658889  \n",
       "14  -0.270185  19.935555  "
      ]
     },
     "execution_count": 527,
     "metadata": {},
     "output_type": "execute_result"
    }
   ],
   "source": [
    "us"
   ]
  },
  {
   "cell_type": "code",
   "execution_count": 528,
   "metadata": {},
   "outputs": [],
   "source": [
    "df1 = us.loc[:,['Adj_Long','Adj_Lat']]"
   ]
  },
  {
   "cell_type": "code",
   "execution_count": 529,
   "metadata": {},
   "outputs": [
    {
     "data": {
      "image/png": "[encoded data removed]",
      "text/plain": [
       "<Figure size 432x288 with 1 Axes>"
      ]
     },
     "metadata": {
      "needs_background": "light"
     },
     "output_type": "display_data"
    }
   ],
   "source": [
    "fig, ax = plt.subplots()\n",
    "ax.scatter(x=\"Adj_Lat\", y=\"Adj_Long\", data=df1, s=400)\n",
    "for line in range(0,df1.shape[0]):\n",
    "     ax.annotate(line, (df1['Adj_Lat'][line]-1, df1['Adj_Long'][line]-1))\n",
    "    "
   ]
  },
  {
   "cell_type": "code",
   "execution_count": 530,
   "metadata": {},
   "outputs": [],
   "source": [
    "def dist(x1,y1,x2,y2):\n",
    "    return np.round(np.sqrt((x1-x2)**2+(y1-y2)**2))"
   ]
  },
  {
   "cell_type": "code",
   "execution_count": 531,
   "metadata": {},
   "outputs": [
    {
     "data": {
      "text/plain": [
       "KMeans(algorithm='auto', copy_x=True, init='k-means++', max_iter=300,\n",
       "       n_clusters=2, n_init=200, n_jobs=None, precompute_distances='auto',\n",
       "       random_state=None, tol=0.0001, verbose=0)"
      ]
     },
     "execution_count": 531,
     "metadata": {},
     "output_type": "execute_result"
    }
   ],
   "source": [
    "kmeans = KMeans(n_clusters=cluster_size, n_init=200)\n",
    "kmeans.fit(df1)"
   ]
  },
  {
   "cell_type": "code",
   "execution_count": 532,
   "metadata": {},
   "outputs": [],
   "source": [
    "labels = kmeans.predict(df1)"
   ]
  },
  {
   "cell_type": "code",
   "execution_count": 534,
   "metadata": {},
   "outputs": [],
   "source": [
    "df1['cluster'] = labels"
   ]
  },
  {
   "cell_type": "code",
   "execution_count": 535,
   "metadata": {},
   "outputs": [
    {
     "data": {
      "image/png": "[encoded data removed]",
      "text/plain": [
       "<Figure size 432x288 with 1 Axes>"
      ]
     },
     "metadata": {
      "needs_background": "light"
     },
     "output_type": "display_data"
    }
   ],
   "source": [
    "colmap = {0: 'r', 1: 'g', 2: 'b'}\n",
    "\n",
    "fig, ax = plt.subplots()\n",
    "for i in list(range(0,cluster_size)):\n",
    "    ax.scatter(x=\"Adj_Lat\", y=\"Adj_Long\", data=df1[df1[\"cluster\"]==i], s=400, color = colmap[i])\n",
    "for line in range(0,df1.shape[0]):\n",
    "     ax.annotate(line, (df1['Adj_Lat'][line]-1, df1['Adj_Long'][line]-1), color = \"w\")"
   ]
  },
  {
   "cell_type": "code",
   "execution_count": 536,
   "metadata": {},
   "outputs": [
    {
     "data": {
      "text/plain": [
       "[0, 1]"
      ]
     },
     "execution_count": 536,
     "metadata": {},
     "output_type": "execute_result"
    }
   ],
   "source": [
    "cl = list(range(0,cluster_size))\n",
    "cl "
   ]
  },
  {
   "cell_type": "markdown",
   "metadata": {},
   "source": [
    "### Shortest Path"
   ]
  },
  {
   "cell_type": "code",
   "execution_count": 537,
   "metadata": {},
   "outputs": [],
   "source": [
    "c = 1\n",
    "use = df1[df1['cluster'] == c].append(df1.loc[0,:]).drop_duplicates()"
   ]
  },
  {
   "cell_type": "code",
   "execution_count": 538,
   "metadata": {},
   "outputs": [],
   "source": [
    "from collections import defaultdict\n",
    "modify_node = defaultdict(int)\n",
    "for index,u in zip(range(len(use)) ,use.index):\n",
    "    modify_node[index] = u"
   ]
  },
  {
   "cell_type": "code",
   "execution_count": 539,
   "metadata": {},
   "outputs": [
    {
     "data": {
      "text/plain": [
       "defaultdict(int, {0: 0, 1: 3, 2: 10, 3: 11, 4: 13})"
      ]
     },
     "execution_count": 539,
     "metadata": {},
     "output_type": "execute_result"
    }
   ],
   "source": [
    "modify_node"
   ]
  },
  {
   "cell_type": "code",
   "execution_count": 540,
   "metadata": {},
   "outputs": [],
   "source": [
    "G = nx.complete_graph(len(use))"
   ]
  },
  {
   "cell_type": "code",
   "execution_count": 541,
   "metadata": {},
   "outputs": [],
   "source": [
    "for (u, v) in G.edges():\n",
    "    x1,y1 = use.loc[modify_node[u],[\"Adj_Lat\",\"Adj_Long\"]]\n",
    "    x2,y2 = use.loc[modify_node[v],[\"Adj_Lat\",\"Adj_Long\"]]\n",
    "    G.edges[u,v]['weight'] = dist(x1,y1,x2,y2)"
   ]
  },
  {
   "cell_type": "code",
   "execution_count": 542,
   "metadata": {},
   "outputs": [
    {
     "data": {
      "image/png": "[encoded data removed]",
      "text/plain": [
       "<Figure size 432x288 with 1 Axes>"
      ]
     },
     "metadata": {},
     "output_type": "display_data"
    }
   ],
   "source": [
    "nx.draw(G, node_size=400, node_color='red', with_labels=True, font_weight='bold')\n",
    "plt.show()"
   ]
  },
  {
   "cell_type": "code",
   "execution_count": 543,
   "metadata": {},
   "outputs": [
    {
     "data": {
      "text/plain": [
       "matrix([[ 0., 23., 24., 32.,  7.],\n",
       "        [23.,  0., 43.,  9., 19.],\n",
       "        [24., 43.,  0., 51., 31.],\n",
       "        [32.,  9., 51.,  0., 28.],\n",
       "        [ 7., 19., 31., 28.,  0.]])"
      ]
     },
     "execution_count": 543,
     "metadata": {},
     "output_type": "execute_result"
    }
   ],
   "source": [
    "DistMat = nx.adjacency_matrix(G).todense()\n",
    "DistMat"
   ]
  },
  {
   "cell_type": "markdown",
   "metadata": {},
   "source": [
    "## Travel Salemans Problem"
   ]
  },
  {
   "cell_type": "markdown",
   "metadata": {},
   "source": [
    "### Objective Function \n",
    "$H_A=A\\sum_{i=1}^n(1-\\sum_{j=1}^nx_{i,j})^2+A\\sum_{j=1}^n(1-\\sum_{i=1}^nx_{i,j})^2$ <br>\n",
    "$H_B=B\\sum_{ui\\in E}^nD_{ui}(\\sum_{j=1}x_{u,j}x_{i,j+1})$ <br>\n",
    "<br>\n",
    "min $H = H_A+H_B$\n",
    "\n",
    "\n"
   ]
  },
  {
   "cell_type": "code",
   "execution_count": 597,
   "metadata": {},
   "outputs": [],
   "source": [
    "def sa_solver(bqm):\n",
    "    sampler = neal.SimulatedAnnealingSampler()\n",
    "    response = sampler.sample(bqm, num_reads=100)\n",
    "    min_energy = float(\"inf\")\n",
    "    current_solution = []\n",
    "    for sample, energy in response.data(['sample', 'energy']):\n",
    "        if energy < min_energy:\n",
    "            current_solution = sample\n",
    "            min_energy = energy\n",
    "    return current_solution"
   ]
  },
  {
   "cell_type": "code",
   "execution_count": 598,
   "metadata": {},
   "outputs": [],
   "source": [
    "def display_mat(current_solution, DistMat, modify_node):\n",
    "    ans_mat = np.zeros((len(DistMat),len(DistMat)))\n",
    "    for key,val in current_solution.items():\n",
    "        temp = re.findall(r'\\d+', key) \n",
    "        x,y = list(map(int, temp))\n",
    "        ans_mat[x,y] = val\n",
    "        ans_mat[y,x] = val\n",
    "    print(ans_mat)\n",
    "    route = list(np.argmax(ans_mat, axis=0))\n",
    "    route.append(route[0])\n",
    "    route = [modify_node[i] for i in route]\n",
    "    edges = []\n",
    "    for x in range(len(route)-1):\n",
    "        edges.append((route[x],route[x+1]))\n",
    "#     G = nx.Graph()\n",
    "#     G.add_edges_from(edges)\n",
    "#     nx.draw_circular(G, node_size=400, node_color='red', with_labels=True, font_weight='bold')\n",
    "#     plt.show()\n",
    "    return route, list(edges)"
   ]
  },
  {
   "cell_type": "code",
   "execution_count": 602,
   "metadata": {},
   "outputs": [],
   "source": [
    "def shortest_path(df1, c):\n",
    "    use = df1[df1['cluster'] == c].append(df1.loc[0,:]).drop_duplicates()  \n",
    "    from collections import defaultdict\n",
    "    modify_node = defaultdict(int)\n",
    "    for index,u in zip(range(len(use)) ,use.index):\n",
    "        modify_node[index] = u\n",
    "    G = nx.complete_graph(len(use))\n",
    "    for (u, v) in G.edges():\n",
    "        x1,y1 = use.loc[modify_node[u],[\"Adj_Lat\",\"Adj_Long\"]]\n",
    "        x2,y2 = use.loc[modify_node[v],[\"Adj_Lat\",\"Adj_Long\"]]\n",
    "        G.edges[u,v]['weight'] = dist(x1,y1,x2,y2)\n",
    "    DistMat = nx.adjacency_matrix(G).todense()\n",
    "    size = (len(DistMat),len(DistMat))\n",
    "    x = Array.create('x', size, \"BINARY\")\n",
    "    HA_1 = 0\n",
    "    HA_2 = 0\n",
    "    for i in range(len(DistMat)):\n",
    "        temp_1 = 1\n",
    "        temp_2 = 1\n",
    "        for j in range(len(DistMat)):\n",
    "            temp_1 -= x[i][j]\n",
    "            temp_2 -= x[j][i]\n",
    "        HA_1 += temp_1**2\n",
    "        HA_2 += temp_2**2\n",
    "    HB = 0\n",
    "    for u,i in list(G.edges):\n",
    "        temp = 0\n",
    "        for j in range(0,len(DistMat)-1):\n",
    "            temp += x[u][j]*x[i][j+1]\n",
    "        HB += DistMat.item((u, i))*temp\n",
    "    max_distance = DistMat.max()\n",
    "    B = 1\n",
    "    A = (max_distance)*len(DistMat)#max_distance*(len(DistMat))\n",
    "    H = A*(HA_1 + HA_2) + B*HB\n",
    "    model = H.compile()\n",
    "    bqm = model.to_dimod_bqm()\n",
    "    current_solution = sa_solver(bqm)\n",
    "    route, edges = display_mat(current_solution, DistMat, modify_node)\n",
    "    return edges\n",
    "    "
   ]
  },
  {
   "cell_type": "code",
   "execution_count": 603,
   "metadata": {},
   "outputs": [
    {
     "name": "stdout",
     "output_type": "stream",
     "text": [
      "0\n",
      "[[0. 0. 0. 0. 0. 0. 0. 0. 0. 0. 1.]\n",
      " [0. 0. 0. 0. 0. 0. 0. 0. 1. 0. 0.]\n",
      " [0. 0. 0. 0. 0. 0. 1. 0. 0. 0. 0.]\n",
      " [0. 0. 0. 0. 0. 0. 0. 1. 0. 0. 1.]\n",
      " [0. 0. 0. 0. 0. 0. 0. 0. 0. 0. 0.]\n",
      " [0. 0. 0. 0. 0. 0. 0. 0. 0. 0. 0.]\n",
      " [0. 0. 1. 0. 0. 0. 0. 0. 0. 0. 0.]\n",
      " [0. 0. 0. 1. 0. 0. 0. 0. 0. 0. 0.]\n",
      " [0. 1. 0. 0. 0. 0. 0. 0. 0. 1. 0.]\n",
      " [0. 0. 0. 0. 0. 0. 0. 0. 1. 0. 0.]\n",
      " [1. 0. 0. 1. 0. 0. 0. 0. 0. 0. 0.]]\n",
      "1\n",
      "[[0. 0. 0. 0. 1.]\n",
      " [0. 0. 0. 1. 0.]\n",
      " [0. 0. 1. 0. 0.]\n",
      " [0. 1. 0. 0. 0.]\n",
      " [1. 0. 0. 0. 0.]]\n"
     ]
    },
    {
     "data": {
      "image/png": "[encoded data removed]",
      "text/plain": [
       "<Figure size 432x288 with 1 Axes>"
      ]
     },
     "metadata": {},
     "output_type": "display_data"
    }
   ],
   "source": [
    "edges = []\n",
    "for c in cl:\n",
    "    print(c)\n",
    "    edges+=shortest_path(df1, c)\n",
    "G = nx.Graph()\n",
    "G.add_edges_from(edges)\n",
    "nx.draw(G, node_size=400, node_color='red', with_labels=True, font_weight='bold')\n",
    "plt.show()"
   ]
  },
  {
   "cell_type": "code",
   "execution_count": 601,
   "metadata": {},
   "outputs": [
    {
     "data": {
      "image/png": "[encoded data removed]",
      "text/plain": [
       "<Figure size 432x288 with 1 Axes>"
      ]
     },
     "metadata": {
      "needs_background": "light"
     },
     "output_type": "display_data"
    }
   ],
   "source": [
    "colmap = {0: 'r', 1: 'g', 2: 'b'}\n",
    "\n",
    "fig, ax = plt.subplots()\n",
    "for i in list(range(0,cluster_size)):\n",
    "    ax.scatter(x=\"Adj_Lat\", y=\"Adj_Long\", data=df1[df1[\"cluster\"]==i], s=400, color = colmap[i])\n",
    "for line in range(0,df1.shape[0]):\n",
    "     ax.annotate(line, (df1['Adj_Lat'][line]-1, df1['Adj_Long'][line]-1), color = \"w\")"
   ]
  },
  {
   "cell_type": "code",
   "execution_count": null,
   "metadata": {},
   "outputs": [],
   "source": []
  }
 ],
 "metadata": {
  "kernelspec": {
   "display_name": "Python 3",
   "language": "python",
   "name": "python3"
  },
  "language_info": {
   "codemirror_mode": {
    "name": "ipython",
    "version": 3
   },
   "file_extension": ".py",
   "mimetype": "text/x-python",
   "name": "python",
   "nbconvert_exporter": "python",
   "pygments_lexer": "ipython3",
   "version": "3.7.3"
  }
 },
 "nbformat": 4,
 "nbformat_minor": 2
}
